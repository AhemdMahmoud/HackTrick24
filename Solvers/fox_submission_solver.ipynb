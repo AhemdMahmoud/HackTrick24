{
  "cells": [
    {
      "cell_type": "code",
      "execution_count": 4,
      "metadata": {},
      "outputs": [],
      "source": [
        "import requests\n",
        "import numpy as np\n",
        "from LSBSteg import encode\n",
        "from riddle_solvers import riddle_solvers\n",
        "import random\n",
        "base_url = 'http://13.53.169.72:5000/attempts/professional'\n",
        "team_id = \"wI4FoRq\"\n"
      ]
    },
    {
      "cell_type": "code",
      "execution_count": 5,
      "metadata": {
        "id": "sQO4rNUm79pq"
      },
      "outputs": [],
      "source": [
        "def init_fox(team_id):\n",
        "    '''\n",
        "    In this function you need to hit to the endpoint to start the game as a fox with your team id.\n",
        "    If a successful response is returned, you will receive back the message that you can break into chunks\n",
        "    and the carrier image that you will encode the chunks in it.\n",
        "    '''\n",
        "    response = requests.post(url=base_url+'/fox/start', json={'teamId': team_id})\n",
        "    status_code = response.status_code\n",
        "    data = response.json() if status_code == 200 else {}\n",
        "\n",
        "    message = data.get('msg')\n",
        "    image_carrier = data.get('carrier_image')\n",
        "\n",
        "    print('Status:', status_code)\n",
        "    print('Data:', data)\n",
        "\n",
        "    return message, image_carrier"
      ]
    },
    {
      "cell_type": "code",
      "execution_count": null,
      "metadata": {
        "id": "izq-unXw8MIK"
      },
      "outputs": [],
      "source": [
        "def get_riddle(team_id, riddle_id):\n",
        "\n",
        "    # API endpoint URL for requesting a riddle\n",
        "    url = base_url + '/fox/get-riddle'\n",
        "    payload = {\n",
        "        \"teamId\": team_id,\n",
        "        \"riddleId\": riddle_id\n",
        "    }\n",
        "\n",
        "    response = requests.post(url, json=payload)\n",
        "\n",
        "    if response.status_code == 200:\n",
        "        # Return the response JSON\n",
        "        return response.json()\n",
        "    else:\n",
        "        print(f\"Failed to get riddle. Status code: {response.status_code}\")\n",
        "        return None\n",
        "\n",
        "# # Example\n",
        "# riddle_id = \"sec_hard\"\n",
        "# test_case = get_riddle(team_id, riddle_id)\n",
        "# print(test_case)\n"
      ]
    },
    {
      "cell_type": "code",
      "execution_count": null,
      "metadata": {
        "id": "qhmbTApQ8QoE"
      },
      "outputs": [],
      "source": [
        "def solve_riddle(team_id, riddle_id):\n",
        "    url = base_url+'/fox/solve-riddle'\n",
        "    riddle_testcase = get_riddle(team_id, riddle_id)\n",
        "    solver_function = riddle_solvers[riddle_id]\n",
        "    solution = solver_function(riddle_testcase)\n",
        "\n",
        "    payload = {\n",
        "        \"teamId\": team_id,\n",
        "        \"solution\": solution\n",
        "    }\n",
        "\n",
        "    # Send POST\n",
        "    response = requests.post(url, json=payload)\n",
        "\n",
        "    if response.status_code == 200:\n",
        "        return response.json()\n",
        "    else:\n",
        "        print(f\"Failed to solve {riddle_id} riddle. Status code: {response.status_code}\")\n",
        "        return None\n",
        "\n",
        "# # Example usage:\n",
        "# solution = \"solution\"\n",
        "# riddle_solution_response = solve_riddle(team_id, solution)\n",
        "# print(riddle_solution_response)\n"
      ]
    },
    {
      "cell_type": "code",
      "execution_count": null,
      "metadata": {
        "id": "KhHVmnRU8UgQ"
      },
      "outputs": [],
      "source": [
        "\n",
        "def send_message(team_id, messages, message_entities=['F', 'E', 'R']):\n",
        "    url = base_url + \"/fox/send-message\"\n",
        "\n",
        "    payload = {\n",
        "        \"teamId\": team_id,\n",
        "        \"messages\": messages,\n",
        "        \"messageEntities\": message_entities\n",
        "    }\n",
        "    response = requests.post(url, json=payload)\n",
        "\n",
        "    if response.status_code == 200:\n",
        "        return response.json()[\"status\"]\n",
        "    else:\n",
        "        print(f\"Failed to send message. Status code: {response.status_code}\")\n",
        "        return None\n",
        "\n",
        "# # Example\n",
        "# team_id = \"wI4FoRq\"\n",
        "# messages = [np.array([[0, 0], [0, 0]]), np.array([[1, 1], [1, 1]]), np.array([[2, 2], [2, 2]])]\n",
        "# message_entities = ['F', 'E', 'R']\n",
        "# send_message_response = send_message(team_id, messages, message_entities)\n",
        "# print(send_message_response)\n"
      ]
    },
    {
      "cell_type": "code",
      "execution_count": null,
      "metadata": {},
      "outputs": [],
      "source": [
        "def generate_message_array(message, image_carrier):  \n",
        "    '''\n",
        "    In this function you will need to create your own startegy. That includes:\n",
        "        1. How you are going to split the real message into chunkcs\n",
        "        2. Include any fake chunks\n",
        "        3. Decide what 3 chuncks you will send in each turn in the 3 channels & what is their entities (F,R,E)\n",
        "        4. Encode each chunck in the image carrier  \n",
        "    '''\n",
        "\n",
        "    '''\n",
        "    our strategy maximizes the score by using 3 chunks, 3 real, 6 fake, 0 empty\n",
        "    making the fake = 6 maximizes the second parameter,\n",
        "    making the empty = 0 maximizes the first parameter\n",
        "    '''\n",
        "    # split the message into 3 chunks,\n",
        "    # each one will not contain the same number of characters\n",
        "    size = len(message)\n",
        "    chunk1size = random.randint(1, size-2)\n",
        "    chunk2size = random.randint(1, size-chunk1size-1)\n",
        "    chunk3size = size - chunk1size - chunk2size\n",
        "    chunk1 = message[:chunk1size]\n",
        "    chunk2 = message[chunk1size:chunk1size+chunk2size]\n",
        "    chunk3 = message[chunk1size+chunk2size:]\n",
        "\n",
        "    real_chunks = [chunk1, chunk2, chunk3]\n",
        "    chunk_sizes = [chunk1size, chunk2size, chunk3size]\n",
        "    fake_chunks = []\n",
        "\n",
        "    # generate 6 fake chunks which are the same size as the real chunks, each character is a random letter\n",
        "    for i in range(6):\n",
        "        fake_chunk = ''.join([chr(random.randint(97, 122)) for _ in range(chunk_sizes[i//2])])\n",
        "        fake_chunks.append(fake_chunk)\n",
        "    \n",
        "    for i in range(3):\n",
        "        # encode the real chunks into the carrier image\n",
        "        real_chunk = real_chunks[i]\n",
        "        real_image = encode(image_carrier, real_chunk)\n",
        "        real_image = real_image.tolist()\n",
        "        # encode the 2 fake chunks into the carrier image\n",
        "        fake_chunk1 = fake_chunks[i]\n",
        "        fake_chunk2 = fake_chunks[i+1]\n",
        "        fake_image1 = encode(real_image, fake_chunk1)\n",
        "        fake_image2 = encode(fake_image1, fake_chunk2)\n",
        "        fake_image1 = fake_image1.tolist()\n",
        "        fake_image2 = fake_image2.tolist()\n",
        "\n",
        "        \n",
        "        print(f'message {i}:', send_message(team_id, [real_image, fake_image1, fake_image2], ['R', 'F', 'F']))\n",
        "        \n"
      ]
    },
    {
      "cell_type": "code",
      "execution_count": null,
      "metadata": {
        "id": "80th14MP8YTR"
      },
      "outputs": [],
      "source": [
        "def end_fox(team_id):\n",
        "    url = base_url + \"/fox/end-game\"\n",
        "\n",
        "    payload = {\n",
        "        \"teamId\": team_id\n",
        "    }\n",
        "\n",
        "    response = requests.post(url, json=payload)\n",
        "\n",
        "    if response.status_code == 200:\n",
        "        return response.text\n",
        "    else:\n",
        "        print(f\"Failed to end game. Status code: {response.status_code}\")\n",
        "        return None\n",
        "\n",
        "# # Example\n",
        "# team_id = \"wI4FoRq\"\n",
        "# end_game_response = end_fox(team_id)\n",
        "# print(end_game_response)\n"
      ]
    },
    {
      "cell_type": "code",
      "execution_count": null,
      "metadata": {
        "id": "mWATzvi88gwP"
      },
      "outputs": [],
      "source": [
        "def submit_fox_attempt(team_id):\n",
        "\n",
        "    try:\n",
        "        # Step 1: Initialize the game as fox\n",
        "        secret_msg, carrier = init_fox(team_id)\n",
        "\n",
        "        # Step 2: Solve riddles\n",
        "        # 'cv_easy', 'cv_medium', 'ml_easy', 'ml_medium', 'sec_hard'\n",
        "        riddle_ids = ['problem_solving_easy', 'problem_solving_medium', 'problem_solving_hard']\n",
        "        for riddle_id in riddle_ids:\n",
        "            solve_riddle(team_id, riddle_id)\n",
        "\n",
        "        # Step 3&4: Strategy & Send the messages\n",
        "        # Call the send_message function with your messages and their entities\n",
        "        generate_message_array(secret_msg, carrier)\n",
        "\n",
        "        # Step 5: End the game\n",
        "        end_game_response = end_fox(team_id)\n",
        "        return end_game_response\n",
        "\n",
        "    except Exception as e:\n",
        "        print(f\"Error submitting fox attempt: {e}\")\n",
        "        return None\n"
      ]
    }
  ],
  "metadata": {
    "colab": {
      "provenance": []
    },
    "kernelspec": {
      "display_name": "Python 3",
      "name": "python3"
    },
    "language_info": {
      "codemirror_mode": {
        "name": "ipython",
        "version": 3
      },
      "file_extension": ".py",
      "mimetype": "text/x-python",
      "name": "python",
      "nbconvert_exporter": "python",
      "pygments_lexer": "ipython3",
      "version": "3.9.4"
    }
  },
  "nbformat": 4,
  "nbformat_minor": 0
}
